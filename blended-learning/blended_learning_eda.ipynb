{
 "cells": [
  {
   "cell_type": "markdown",
   "metadata": {},
   "source": [
    "# Blended Learning EDA\n",
    "\n",
    "This notebook is taking a look through which blended learning programs are used most frequently, how long sessions last and whether particular schools are using blended learning programs more than other school."
   ]
  },
  {
   "cell_type": "code",
   "execution_count": 1,
   "metadata": {},
   "outputs": [],
   "source": [
    "%matplotlib inline\n",
    "\n",
    "import pandas as pd\n",
    "import numpy as np\n",
    "import matplotlib.pyplot as plt\n",
    "import seaborn as sns\n",
    "import pyodbc\n",
    "import os\n",
    "\n",
    "conn = pyodbc.connect(r'DSN=' + os.getenv(\"DSN_SZ\") + ';UID=' + os.getenv(\"SZ_USERNAME\") + \";PWD=\" + os.getenv(\"SZ_PWD\"))\n",
    "\n",
    "lexia_df = pd.read_sql_query(\"select * from custom.custom_Lexia\", con=conn)"
   ]
  },
  {
   "cell_type": "code",
   "execution_count": 2,
   "metadata": {},
   "outputs": [],
   "source": [
    "def cast_to_num(df, column):\n",
    "    return df[column].astype('float64')\n",
    "   \n",
    "cols_to_convert_to_num = ['duration_minutes', 'units_to_target', 'today_mins', 'today_units', 'week_time', 'weekly_target', 'meeting_target_usage']\n",
    "cols_to_convert_to_dt = [\"activity_start_time\", \"activity_end_time\", \"activity_timestamp\"]\n",
    "\n",
    "for col in cols_to_convert_to_num:\n",
    "    cast_to_num(lexia_df, col)"
   ]
  },
  {
   "cell_type": "code",
   "execution_count": 3,
   "metadata": {},
   "outputs": [],
   "source": [
    "# change data types\n",
    "def accuracy_scores(row):\n",
    "    if row['accuracy'] == 'High':\n",
    "        return 3\n",
    "    elif row['accuracy'] == \"Medium\":\n",
    "        return 2\n",
    "    elif row['accuracy'] == \"Low\":\n",
    "        return 1\n",
    "    else:\n",
    "        return 0\n",
    "\n",
    "lexia_df['accuracy_score'] = lexia_df.apply(lambda row: accuracy_scores(row),axis=1)"
   ]
  },
  {
   "cell_type": "code",
   "execution_count": 4,
   "metadata": {},
   "outputs": [
    {
     "data": {
      "text/plain": [
       "(array([  3.18480000e+04,   3.29400000e+03,   7.58500000e+03,\n",
       "          4.05200000e+03,   6.07000000e+02,   1.45000000e+02,\n",
       "          5.70000000e+01,   8.00000000e+00,   0.00000000e+00,\n",
       "          4.00000000e+00]),\n",
       " array([  0. ,   7.5,  15. ,  22.5,  30. ,  37.5,  45. ,  52.5,  60. ,\n",
       "         67.5,  75. ]),\n",
       " <a list of 10 Patch objects>)"
      ]
     },
     "execution_count": 4,
     "metadata": {},
     "output_type": "execute_result"
    },
    {
     "data": {
      "image/png": "[encoded data removed]",
      "text/plain": [
       "<matplotlib.figure.Figure at 0x11073860>"
      ]
     },
     "metadata": {},
     "output_type": "display_data"
    }
   ],
   "source": [
    "def cast_to_int(df, column):\n",
    "    df[column] = df[column].astype('int32')\n",
    "\n",
    "cast_to_int(lexia_df, 'today_mins')\n",
    "\n",
    "plt.hist(lexia_df['today_mins'])"
   ]
  }
 ],
 "metadata": {
  "kernelspec": {
   "display_name": "Python 3",
   "language": "python",
   "name": "python3"
  },
  "language_info": {
   "codemirror_mode": {
    "name": "ipython",
    "version": 3
   },
   "file_extension": ".py",
   "mimetype": "text/x-python",
   "name": "python",
   "nbconvert_exporter": "python",
   "pygments_lexer": "ipython3",
   "version": "3.6.1"
  }
 },
 "nbformat": 4,
 "nbformat_minor": 2
}
